{
 "cells": [
  {
   "cell_type": "code",
   "execution_count": 33,
   "metadata": {},
   "outputs": [
    {
     "name": "stdout",
     "output_type": "stream",
     "text": [
      "10\n"
     ]
    }
   ],
   "source": [
    "# Video: https://www.youtube.com/watch?v=2JDR6jv0fGA\n",
    "import pandas as pd\n",
    "import numpy as np\n",
    "\n",
    "seasons = [str(season) for season in range(2013, 2023)]\n",
    "\n",
    "full_team_names = {\n",
    "    'crd': 'Arizona Cardinals', 'atl': 'Atlanta Falcons', 'rav': 'Baltimore Ravens', 'buf': 'Buffalo Bills', 'car': 'Carolina Panthers', \n",
    "    'chi': 'Chicago Bears', 'cin': 'Cincinnati Bengals', 'cle': 'Cleveland Browns', 'dal': 'Dallas Cowboys', 'den': 'Denver Broncos', \n",
    "    'det': 'Detroit Lions', 'gnb': 'Green Bay Packers', 'htx': 'Houston Texans', 'clt': 'Indianapolis Colts', 'jax': 'Jacksonville Jaguars', \n",
    "    'kan': 'San Diego Chargers', 'sdg': 'Los Angeles Chargers', 'ram': 'Los Angeles Rams', 'rai': 'Las Vegas Raider', 'mia': 'Miami Dolphins', \n",
    "    'min': 'Minnesota Vikings', 'nwe': 'New England Patriots', 'nor': 'New Orleans Saints', 'nyg': 'New York Giants', 'nyj': 'New York Jets', \n",
    "    'phi': 'Philadelphia Eagles', 'pit': 'Pittsburgh Steelers', 'sea': 'Seattle Seahawks', 'sfo': 'San Francisco 49ers', 'tam': 'Tampa Bay Buccaneers', 'oti': 'Tennessee Titans', 'was': 'Washington Redskins'\n",
    "}\n",
    "teams = list(full_team_names.keys())\n",
    "print(len(seasons))"
   ]
  },
  {
   "cell_type": "code",
   "execution_count": 43,
   "metadata": {},
   "outputs": [],
   "source": [
    "import random\n",
    "import time\n",
    "import os\n",
    "\n",
    "nfl_games_df = pd.DataFrame()\n",
    "folder_path = 'csv_files'\n",
    "file_name = 'gamelogs_2013-2023.csv'\n",
    "\n",
    "if not os.path.exists(folder_path):\n",
    "    os.makedirs(folder_path)\n",
    "\n",
    "file_path = os.path.join(folder_path, file_name)\n",
    "\n",
    "if not os.path.exists(file_path):\n",
    "    for season in seasons:\n",
    "        for team in teams:\n",
    "            # getting the gamelog for every team in every year\n",
    "            url = \"https://www.pro-football-reference.com/teams/\" + team + \"/\" + season + \"/gamelog/\"\n",
    "            print(url)\n",
    "            # https://www.pro-football-reference.com/teams/sdg/2023/gamelog/\n",
    "            off_df = pd.read_html(url, header=1, attrs={'id':'gamelog' + season})[0]\n",
    "            def_df = pd.read_html(url, header=1, attrs={'id':'gamelog_opp' + season})[0]\n",
    "            team_df = pd.concat([off_df, def_df], axis=1)\n",
    "            \n",
    "            team_df.insert(loc=0, column='Season', value=season)\n",
    "            team_df.insert(loc=2, column='Team', value=full_team_names[team])\n",
    "            \n",
    "            nfl_games_df = pd.concat([nfl_games_df, team_df], ignore_index=True)\n",
    "            \n",
    "            time.sleep(random.randint(4, 5))\n",
    "        \n",
    "        print(nfl_games_df)\n",
    "    nfl_games_df.to_csv(file_path, index=False)\n",
    "else:\n",
    "    nfl_games_df = pd.read_csv(file_path)"
   ]
  },
  {
   "cell_type": "code",
   "execution_count": 44,
   "metadata": {},
   "outputs": [],
   "source": [
    "# Cleans up the dataframe, makes sure to name some columns\n",
    "new_columns = {'Unnamed: 4': 'Win', 'Unnamed: 6':'Home', 'Tm':'Off_Pts', 'Opp.1':'Def_Pts'}\n",
    "nfl_games_df = nfl_games_df.rename(columns=new_columns)"
   ]
  },
  {
   "cell_type": "code",
   "execution_count": 46,
   "metadata": {},
   "outputs": [],
   "source": [
    "# Replacing values in columns for Win and Home\n",
    "nfl_games_df['Win'] = nfl_games_df['Win'].apply(lambda x: 1 if x == 'W' else(0 if x == 'L' else 0.5))\n",
    "nfl_games_df['Home'] = nfl_games_df['Home'].apply(lambda x: 0 if x == '@' else 1)\n",
    "\n",
    "# Replacing values in the OT column of the dataframe\n",
    "nfl_games_df['OT'] = nfl_games_df['OT'].apply(lambda x: 1 if x == 'OT' else 0)"
   ]
  },
  {
   "cell_type": "code",
   "execution_count": null,
   "metadata": {},
   "outputs": [],
   "source": [
    "# Get rid of Unnamed: 3, index 5, 6th item in table\n",
    "# Can get consider getting rid of OT\n",
    "# Can get rid of everything after opponent\n",
    "# Need to merge with team rankings and opponent rankings"
   ]
  }
 ],
 "metadata": {
  "kernelspec": {
   "display_name": "Python 3",
   "language": "python",
   "name": "python3"
  },
  "language_info": {
   "codemirror_mode": {
    "name": "ipython",
    "version": 3
   },
   "file_extension": ".py",
   "mimetype": "text/x-python",
   "name": "python",
   "nbconvert_exporter": "python",
   "pygments_lexer": "ipython3",
   "version": "3.12.0"
  }
 },
 "nbformat": 4,
 "nbformat_minor": 2
}
