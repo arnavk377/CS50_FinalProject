{
 "cells": [
  {
   "cell_type": "code",
   "execution_count": 1,
   "metadata": {},
   "outputs": [
    {
     "name": "stdout",
     "output_type": "stream",
     "text": [
      "10\n"
     ]
    }
   ],
   "source": [
    "# Video: https://www.youtube.com/watch?v=2JDR6jv0fGA\n",
    "import pandas as pd\n",
    "import numpy as np\n",
    "\n",
    "seasons = [str(season) for season in range(2013, 2023)]\n",
    "\n",
    "full_team_names = {\n",
    "    'crd': 'Arizona Cardinals', 'atl': 'Atlanta Falcons', 'rav': 'Baltimore Ravens', 'buf': 'Buffalo Bills', 'car': 'Carolina Panthers', \n",
    "    'chi': 'Chicago Bears', 'cin': 'Cincinnati Bengals', 'cle': 'Cleveland Browns', 'dal': 'Dallas Cowboys', 'den': 'Denver Broncos', \n",
    "    'det': 'Detroit Lions', 'gnb': 'Green Bay Packers', 'htx': 'Houston Texans', 'clt': 'Indianapolis Colts', 'jax': 'Jacksonville Jaguars', \n",
    "    'kan': 'San Diego Chargers', 'sdg': 'Los Angeles Chargers', 'ram': 'Los Angeles Rams', 'rai': 'Las Vegas Raider', 'mia': 'Miami Dolphins', \n",
    "    'min': 'Minnesota Vikings', 'nwe': 'New England Patriots', 'nor': 'New Orleans Saints', 'nyg': 'New York Giants', 'nyj': 'New York Jets', \n",
    "    'phi': 'Philadelphia Eagles', 'pit': 'Pittsburgh Steelers', 'sea': 'Seattle Seahawks', 'sfo': 'San Francisco 49ers', 'tam': 'Tampa Bay Buccaneers', 'oti': 'Tennessee Titans', 'was': 'Washington Redskins'\n",
    "}\n",
    "teams = list(full_team_names.keys())\n",
    "print(len(seasons))"
   ]
  },
  {
   "cell_type": "code",
   "execution_count": 2,
   "metadata": {},
   "outputs": [],
   "source": [
    "import random\n",
    "import time\n",
    "import os\n",
    "\n",
    "# code block to get the initial game boxscores from PFR and convert it to a csv file\n",
    "boxscore_df = pd.DataFrame()\n",
    "folder_path = 'csv_files'\n",
    "file_name = 'gamelogs_2013-2023.csv'\n",
    "\n",
    "if not os.path.exists(folder_path):\n",
    "    os.makedirs(folder_path)\n",
    "\n",
    "file_path = os.path.join(folder_path, file_name)\n",
    "\n",
    "if not os.path.exists(file_path):\n",
    "    for season in seasons:\n",
    "        for team in teams:\n",
    "            # getting the gamelog for every team in every year\n",
    "            url = \"https://www.pro-football-reference.com/teams/\" + team + \"/\" + season + \"/gamelog/\"\n",
    "            print(url)\n",
    "            # https://www.pro-football-reference.com/teams/sdg/2023/gamelog/\n",
    "            off_df = pd.read_html(url, header=1, attrs={'id':'gamelog' + season})[0]\n",
    "            def_df = pd.read_html(url, header=1, attrs={'id':'gamelog_opp' + season})[0]\n",
    "            team_df = pd.concat([off_df, def_df], axis=1)\n",
    "            \n",
    "            team_df.insert(loc=0, column='Season', value=season)\n",
    "            team_df.insert(loc=2, column='Team', value=full_team_names[team])\n",
    "            \n",
    "            boxscore_df = pd.concat([boxscore_df, team_df], ignore_index=True)\n",
    "            \n",
    "            time.sleep(random.randint(4, 5))\n",
    "        \n",
    "        print(boxscore_df)\n",
    "    boxscore_df.to_csv(file_path, index=False)\n",
    "else:\n",
    "    boxscore_df = pd.read_csv(file_path)"
   ]
  },
  {
   "cell_type": "code",
   "execution_count": 3,
   "metadata": {},
   "outputs": [],
   "source": [
    "# Cleans up the dataframe, makes sure to name some columns\n",
    "new_columns = {'Unnamed: 4': 'Win', 'Unnamed: 6':'Home', 'Tm':'Off_Pts', 'Opp.1':'Def_Pts'}\n",
    "boxscore_df = boxscore_df.rename(columns=new_columns)"
   ]
  },
  {
   "cell_type": "code",
   "execution_count": 4,
   "metadata": {},
   "outputs": [],
   "source": [
    "# Replacing values in columns for Win and Home\n",
    "boxscore_df['Win'] = boxscore_df['Win'].apply(lambda x: 1 if x == 'W' else(0 if x == 'L' else 0.5))\n",
    "boxscore_df['Home'] = boxscore_df['Home'].apply(lambda x: 0 if x == '@' else 1)\n",
    "\n",
    "# Replacing values in the OT column of the dataframe\n",
    "boxscore_df['OT'] = boxscore_df['OT'].apply(lambda x: 1 if x == 'OT' else 0)"
   ]
  },
  {
   "cell_type": "code",
   "execution_count": 21,
   "metadata": {},
   "outputs": [
    {
     "name": "stdout",
     "output_type": "stream",
     "text": [
      "Index(['Season', 'Week', 'Team', 'Day', 'Date', 'Unnamed: 3', 'Win', 'OT',\n",
      "       'Home', 'Opp', 'Off_Pts', 'Def_Pts', 'Cmp', 'Att', 'Yds', 'TD', 'Int',\n",
      "       'Sk', 'Yds.1', 'Y/A', 'NY/A', 'Cmp%', 'Rate', 'Att.1', 'Yds.2', 'Y/A.1',\n",
      "       'TD.1', 'FGM', 'FGA', 'XPM', 'XPA', 'Pnt', 'Yds.3', '3DConv', '3DAtt',\n",
      "       '4DConv', '4DAtt', 'ToP', 'Week.1', 'Day.1', 'Date.1', 'Unnamed: 3.1',\n",
      "       'Unnamed: 4.1', 'OT.1', 'Unnamed: 6.1', 'Opp.2', 'Tm.1', 'Opp.1.1',\n",
      "       'Cmp.1', 'Att.2', 'Yds.4', 'TD.2', 'Int.1', 'Sk.1', 'Yds.1.1', 'Y/A.2',\n",
      "       'NY/A.1', 'Cmp%.1', 'Rate.1', 'Att.1.1', 'Yds.2.1', 'Y/A.1.1', 'TD.1.1',\n",
      "       'FGM.1', 'FGA.1', 'XPM.1', 'XPA.1', 'Pnt.1', 'Yds.3.1', '3DConv.1',\n",
      "       '3DAtt.1', '4DConv.1', '4DAtt.1', 'ToP.1'],\n",
      "      dtype='object')\n"
     ]
    }
   ],
   "source": [
    "matchup_df = boxscore_df[:]\n",
    "print(matchup_df.columns)\n",
    "# Creating a new dataframe to use"
   ]
  },
  {
   "cell_type": "code",
   "execution_count": 22,
   "metadata": {},
   "outputs": [],
   "source": [
    "# Dropping columns which would be available after the game in this cell\n",
    "matchup_df = matchup_df.drop(matchup_df.columns[10:], axis=1)\n",
    "matchup_df = matchup_df.drop(matchup_df.columns[[5, 7]], axis=1)"
   ]
  },
  {
   "cell_type": "code",
   "execution_count": 23,
   "metadata": {},
   "outputs": [
    {
     "name": "stdout",
     "output_type": "stream",
     "text": [
      "Index(['Season', 'Week', 'Team', 'Day', 'Date', 'Win', 'Home', 'Opp'], dtype='object')\n"
     ]
    }
   ],
   "source": [
    "print(matchup_df.columns)"
   ]
  },
  {
   "cell_type": "code",
   "execution_count": null,
   "metadata": {},
   "outputs": [],
   "source": []
  }
 ],
 "metadata": {
  "kernelspec": {
   "display_name": "Python 3",
   "language": "python",
   "name": "python3"
  },
  "language_info": {
   "codemirror_mode": {
    "name": "ipython",
    "version": 3
   },
   "file_extension": ".py",
   "mimetype": "text/x-python",
   "name": "python",
   "nbconvert_exporter": "python",
   "pygments_lexer": "ipython3",
   "version": "3.12.0"
  }
 },
 "nbformat": 4,
 "nbformat_minor": 2
}
