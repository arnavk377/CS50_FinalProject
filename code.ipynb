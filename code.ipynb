{
 "cells": [
  {
   "cell_type": "code",
   "execution_count": 103,
   "metadata": {},
   "outputs": [
    {
     "name": "stdout",
     "output_type": "stream",
     "text": [
      "10\n"
     ]
    }
   ],
   "source": [
    "# Video: https://www.youtube.com/watch?v=2JDR6jv0fGA\n",
    "import pandas as pd\n",
    "import numpy as np\n",
    "\n",
    "seasons = [str(season) for season in range(2013, 2023)]\n",
    "\n",
    "full_team_names = {\n",
    "    'crd': 'Arizona Cardinals', 'atl': 'Atlanta Falcons', 'rav': 'Baltimore Ravens', 'buf': 'Buffalo Bills', 'car': 'Carolina Panthers', \n",
    "    'chi': 'Chicago Bears', 'cin': 'Cincinnati Bengals', 'cle': 'Cleveland Browns', 'dal': 'Dallas Cowboys', 'den': 'Denver Broncos', \n",
    "    'det': 'Detroit Lions', 'gnb': 'Green Bay Packers', 'htx': 'Houston Texans', 'clt': 'Indianapolis Colts', 'jax': 'Jacksonville Jaguars', \n",
    "    'kan': 'Kansas City Chiefs', 'sdg': 'Los Angeles Chargers', 'ram': 'Los Angeles Rams', 'rai': 'Las Vegas Raiders', 'mia': 'Miami Dolphins', \n",
    "    'min': 'Minnesota Vikings', 'nwe': 'New England Patriots', 'nor': 'New Orleans Saints', 'nyg': 'New York Giants', 'nyj': 'New York Jets', \n",
    "    'phi': 'Philadelphia Eagles', 'pit': 'Pittsburgh Steelers', 'sea': 'Seattle Seahawks', 'sfo': 'San Francisco 49ers', 'tam': 'Tampa Bay Buccaneers', 'oti': 'Tennessee Titans', 'was': 'Washington Commanders'\n",
    "}\n",
    "teams = list(full_team_names.keys())\n",
    "print(len(seasons))"
   ]
  },
  {
   "cell_type": "code",
   "execution_count": 104,
   "metadata": {},
   "outputs": [],
   "source": [
    "import random\n",
    "import time\n",
    "import os\n",
    "\n",
    "# code block to get the initial game boxscores from PFR and convert it to a csv file\n",
    "boxscore_df = pd.DataFrame()\n",
    "folder_path = 'csv_files'\n",
    "file_name = 'gamelogs_2013-2023.csv'\n",
    "\n",
    "if not os.path.exists(folder_path):\n",
    "    os.makedirs(folder_path)\n",
    "\n",
    "file_path = os.path.join(folder_path, file_name)\n",
    "\n",
    "if not os.path.exists(file_path):\n",
    "    for season in seasons:\n",
    "        for team in teams:\n",
    "            # getting the gamelog for every team in every year\n",
    "            url = \"https://www.pro-football-reference.com/teams/\" + team + \"/\" + season + \"/gamelog/\"\n",
    "            print(url)\n",
    "            team_df = pd.read_html(url, header=1, attrs={'id':'gamelog' + season})[0]\n",
    "            \n",
    "            team_df.insert(loc=0, column='Season', value=season)\n",
    "            team_df.insert(loc=2, column='Team', value=full_team_names[team])\n",
    "            \n",
    "            boxscore_df = pd.concat([boxscore_df, team_df], ignore_index=True)\n",
    "            \n",
    "            time.sleep(random.randint(4, 5))\n",
    "        \n",
    "        print(boxscore_df)\n",
    "    boxscore_df.to_csv(file_path, index=False)\n",
    "else:\n",
    "    boxscore_df = pd.read_csv(file_path)"
   ]
  },
  {
   "cell_type": "code",
   "execution_count": 105,
   "metadata": {},
   "outputs": [],
   "source": [
    "# Cleans up the dataframe, makes sure to name some columns\n",
    "new_columns = {'Unnamed: 4': 'Win', 'Unnamed: 6':'Home', 'Tm':'Off_Pts', 'Opp.1':'Def_Pts'}\n",
    "rename_dict = {'St. Louis Rams':'Los Angeles Rams',\n",
    "               'Oakland Raiders': 'Las Vegas Raiders',\n",
    "               'San Diego Chargers': 'Los Angeles Chargers',\n",
    "               'Washington Football Team': 'Washington Commanders',\n",
    "               'Washington Redskins': 'Washington Commanders'}\n",
    "boxscore_df = boxscore_df.rename(columns=new_columns)\n",
    "boxscore_df = boxscore_df.replace(to_replace={'Opp': rename_dict})"
   ]
  },
  {
   "cell_type": "code",
   "execution_count": 106,
   "metadata": {},
   "outputs": [],
   "source": [
    "# Replacing values in columns for Win and Home\n",
    "boxscore_df['Win'] = boxscore_df['Win'].map({'W': 1, 'L': 0, 'T': 0.5})\n",
    "boxscore_df['Home'] = boxscore_df['Home'].map({'': 1, '@': 0})\n",
    "\n",
    "# Replacing values in the OT column of the dataframe\n",
    "boxscore_df['OT'] = boxscore_df['OT'].map({'OT': 1, '': 0})"
   ]
  },
  {
   "cell_type": "code",
   "execution_count": 107,
   "metadata": {},
   "outputs": [
    {
     "name": "stdout",
     "output_type": "stream",
     "text": [
      "Index(['Season', 'Week', 'Team', 'Day', 'Date', 'Unnamed: 3', 'Win', 'OT',\n",
      "       'Home', 'Opp', 'Off_Pts', 'Def_Pts', 'Cmp', 'Att', 'Yds', 'TD', 'Int',\n",
      "       'Sk', 'Yds.1', 'Y/A', 'NY/A', 'Cmp%', 'Rate', 'Att.1', 'Yds.2', 'Y/A.1',\n",
      "       'TD.1', 'FGM', 'FGA', 'XPM', 'XPA', 'Pnt', 'Yds.3', '3DConv', '3DAtt',\n",
      "       '4DConv', '4DAtt', 'ToP'],\n",
      "      dtype='object')\n"
     ]
    }
   ],
   "source": [
    "matchup_df = boxscore_df[:]\n",
    "print(matchup_df.columns)\n",
    "# Creating a new dataframe to use"
   ]
  },
  {
   "cell_type": "code",
   "execution_count": 108,
   "metadata": {},
   "outputs": [],
   "source": [
    "# Dropping columns which would be available after the game in this cell\n",
    "matchup_df = matchup_df.drop(matchup_df.columns[10:], axis=1)\n",
    "matchup_df = matchup_df.drop(matchup_df.columns[[5, 7]], axis=1)"
   ]
  },
  {
   "cell_type": "code",
   "execution_count": 109,
   "metadata": {},
   "outputs": [
    {
     "name": "stdout",
     "output_type": "stream",
     "text": [
      "Index(['Season', 'Week', 'Team', 'Day', 'Date', 'Win', 'Home', 'Opp'], dtype='object')\n"
     ]
    }
   ],
   "source": [
    "print(matchup_df.columns)"
   ]
  },
  {
   "cell_type": "code",
   "execution_count": 110,
   "metadata": {},
   "outputs": [
    {
     "name": "stdout",
     "output_type": "stream",
     "text": [
      "      Season  Week                   Team  Day          Date  Win  Home  \\\n",
      "0       2013     1      Arizona Cardinals  Sun   September 8  0.0   0.0   \n",
      "1       2013     2      Arizona Cardinals  Sun  September 15  1.0   NaN   \n",
      "2       2013     3      Arizona Cardinals  Sun  September 22  0.0   0.0   \n",
      "3       2013     4      Arizona Cardinals  Sun  September 29  1.0   0.0   \n",
      "4       2013     5      Arizona Cardinals  Sun     October 6  1.0   NaN   \n",
      "...      ...   ...                    ...  ...           ...  ...   ...   \n",
      "5177    2022    13  Washington Commanders  Sun    December 4  0.5   0.0   \n",
      "5178    2022    15  Washington Commanders  Sun   December 18  0.0   NaN   \n",
      "5179    2022    16  Washington Commanders  Sat   December 24  0.0   0.0   \n",
      "5180    2022    17  Washington Commanders  Sun     January 1  0.0   NaN   \n",
      "5181    2022    18  Washington Commanders  Sun     January 8  1.0   NaN   \n",
      "\n",
      "                       Opp  \n",
      "0         Los Angeles Rams  \n",
      "1            Detroit Lions  \n",
      "2       New Orleans Saints  \n",
      "3     Tampa Bay Buccaneers  \n",
      "4        Carolina Panthers  \n",
      "...                    ...  \n",
      "5177       New York Giants  \n",
      "5178       New York Giants  \n",
      "5179   San Francisco 49ers  \n",
      "5180      Cleveland Browns  \n",
      "5181        Dallas Cowboys  \n",
      "\n",
      "[5182 rows x 8 columns]\n"
     ]
    }
   ],
   "source": [
    "print(matchup_df)"
   ]
  },
  {
   "cell_type": "code",
   "execution_count": 111,
   "metadata": {},
   "outputs": [],
   "source": [
    "# Will need to implement so it updates weekly\n",
    "\n",
    "# https://www.pro-football-reference.com/teams/mia/2023.htm#team_stats\n",
    "# Example link for team rankings\n",
    "\n",
    "import random\n",
    "import time\n",
    "import os\n",
    "\n",
    "# code block to get the team rankings(Offense/Defense) from PFR and convert it to a csv file\n",
    "all_tm_rkgs_df = pd.DataFrame()\n",
    "folder_path = 'csv_files'\n",
    "file_name = 'rankings_2013-2023.csv'\n",
    "\n",
    "if not os.path.exists(folder_path):\n",
    "    os.makedirs(folder_path)\n",
    "\n",
    "file_path = os.path.join(folder_path, file_name)\n",
    "\n",
    "if not os.path.exists(file_path):\n",
    "    for season in seasons:\n",
    "        for team in teams:\n",
    "            rks_url = \"https://www.pro-football-reference.com/teams/\" + team + \"/\" + season + \".htm#team_stats\"\n",
    "            print(rks_url)\n",
    "            tm_rk_df = pd.read_html(rks_url, header=1, attrs={'id':'team_stats'})[0]\n",
    "            cvn_url = \"https://www.pro-football-reference.com/teams/nwe/2023.htm#team_conversions\"\n",
    "            cvn_df = pd.read_html(rks_url, header=1, attrs={'id':'team_conversions'})[0]\n",
    "            cvn_df = cvn_df.drop([0, 1])\n",
    "            cvn_df = cvn_df.drop(['Player'], axis=1)\n",
    "            rkgs_df = pd.concat([tm_rk_df, cvn_df], axis=1)\n",
    "            new_columns = {'Yds': 'Tot_Yds', 'Att': 'Pass_Att', 'Yds.1': 'Pass_Yds', 'TD': 'Pass_TD', 'Att.1': 'Rush_Att', 'Yds.2': 'Rush_Yds', 'TD.1': 'Rush_TD', 'Yds.4': 'Avg_Drive_Yds'}\n",
    "            rkgs_df = rkgs_df.rename(columns=new_columns)\n",
    "            rkgs_df = rkgs_df.drop([0, 1])\n",
    "            rkgs_df = rkgs_df.dropna(axis=1, how='all')\n",
    "\n",
    "            of_columns = [val + '_OF' for val in rkgs_df.columns[1:]]\n",
    "            df_columns = [val + '_DF' for val in rkgs_df.columns[1:]]\n",
    "            tot_columns = of_columns + df_columns\n",
    "            rnk_row = []\n",
    "            for i, j in rkgs_df.iterrows():\n",
    "                for k in j:\n",
    "                    if not isinstance(k, str):\n",
    "                        rnk_row.append(k)\n",
    "                    elif k.isnumeric():\n",
    "                        rnk_row.append(float(k))\n",
    "            rnk_rows = np.array(rnk_row)\n",
    "            com_rkgs_df = pd.DataFrame(rnk_rows, tot_columns)\n",
    "            com_rkgs_df = com_rkgs_df.T\n",
    "            com_rkgs_df.insert(loc=0, column='Season', value=season) # replace with 2023 for testing\n",
    "            com_rkgs_df.insert(loc=1, column='Team', value=full_team_names[team]) # Replace with 'New England Patriots' for testing\n",
    "            \n",
    "            all_tm_rkgs_df = pd.concat([all_tm_rkgs_df, com_rkgs_df], ignore_index=True)\n",
    "            \n",
    "            time.sleep(random.randint(4, 5))\n",
    "        \n",
    "        print(com_rkgs_df)\n",
    "    all_tm_rkgs_df.to_csv(file_path, index=False)\n",
    "else:\n",
    "    all_tm_rkgs_df = pd.read_csv(file_path)"
   ]
  },
  {
   "cell_type": "code",
   "execution_count": 118,
   "metadata": {},
   "outputs": [
    {
     "name": "stdout",
     "output_type": "stream",
     "text": [
      "      Season  Week                   Team  Day          Date  Win  Home  \\\n",
      "0       2013     1      Arizona Cardinals  Sun   September 8  0.0   0.0   \n",
      "1       2013    14      Arizona Cardinals  Sun    December 8  1.0   NaN   \n",
      "2       2013     2        Atlanta Falcons  Sun  September 15  1.0   NaN   \n",
      "3       2013     7      Carolina Panthers  Sun    October 20  1.0   NaN   \n",
      "4       2013    12          Chicago Bears  Sun   November 24  0.0   0.0   \n",
      "...      ...   ...                    ...  ...           ...  ...   ...   \n",
      "5177    2022    11    Philadelphia Eagles  Sun   November 20  1.0   0.0   \n",
      "5178    2022    12    Pittsburgh Steelers  Mon   November 28  1.0   0.0   \n",
      "5179    2022     4       Tennessee Titans  Sun     October 2  1.0   0.0   \n",
      "5180    2022     7       Tennessee Titans  Sun    October 23  1.0   NaN   \n",
      "5181    2022     8  Washington Commanders  Sun    October 30  1.0   0.0   \n",
      "\n",
      "                     Opp  PF_OF  Tot_Yds_OF  ...  Sc%_DF_Opp  TO%_DF_Opp  \\\n",
      "0       Los Angeles Rams   16.0        12.0  ...        24.0         8.0   \n",
      "1       Los Angeles Rams   16.0        12.0  ...        24.0         8.0   \n",
      "2       Los Angeles Rams   20.0        14.0  ...        24.0         8.0   \n",
      "3       Los Angeles Rams   18.0        26.0  ...        24.0         8.0   \n",
      "4       Los Angeles Rams    2.0         8.0  ...        24.0         8.0   \n",
      "...                  ...    ...         ...  ...         ...         ...   \n",
      "5177  Indianapolis Colts    3.0         3.0  ...        17.0        23.0   \n",
      "5178  Indianapolis Colts   26.0        23.0  ...        17.0        23.0   \n",
      "5179  Indianapolis Colts   28.0        30.0  ...        17.0        23.0   \n",
      "5180  Indianapolis Colts   28.0        30.0  ...        17.0        23.0   \n",
      "5181  Indianapolis Colts   24.0        20.0  ...        17.0        23.0   \n",
      "\n",
      "      Start_DF_Opp  Time_DF_Opp  Plays_DF_Opp  Avg_Drive_Yds_DF_Opp  \\\n",
      "0              9.0         28.0          19.0                  21.0   \n",
      "1              9.0         28.0          19.0                  21.0   \n",
      "2              9.0         28.0          19.0                  21.0   \n",
      "3              9.0         28.0          19.0                  21.0   \n",
      "4              9.0         28.0          19.0                  21.0   \n",
      "...            ...          ...           ...                   ...   \n",
      "5177          27.0          5.0           5.0                   9.0   \n",
      "5178          27.0          5.0           5.0                   9.0   \n",
      "5179          27.0          5.0           5.0                   9.0   \n",
      "5180          27.0          5.0           5.0                   9.0   \n",
      "5181          27.0          5.0           5.0                   9.0   \n",
      "\n",
      "      Pts_DF_Opp  3D%_DF_Opp  4D%_DF_Opp  RZPct_DF_Opp  \n",
      "0           16.0        19.0        22.0          11.0  \n",
      "1           16.0        19.0        22.0          11.0  \n",
      "2           16.0        19.0        22.0          11.0  \n",
      "3           16.0        19.0        22.0          11.0  \n",
      "4           16.0        19.0        22.0          11.0  \n",
      "...          ...         ...         ...           ...  \n",
      "5177        19.0        10.0        17.0          32.0  \n",
      "5178        19.0        10.0        17.0          32.0  \n",
      "5179        19.0        10.0        17.0          32.0  \n",
      "5180        19.0        10.0        17.0          32.0  \n",
      "5181        19.0        10.0        17.0          32.0  \n",
      "\n",
      "[5182 rows x 105 columns]\n"
     ]
    }
   ],
   "source": [
    "merged_df_1 = pd.merge(matchup_df, all_tm_rkgs_df, on=['Season', 'Team'], how='inner')\n",
    "merged_df_2 = pd.merge(merged_df_1, all_tm_rkgs_df, left_on=['Season', 'Opp'], right_on=['Season', 'Team'], suffixes=('', '_Opp'))\n",
    "print(merged_df_2)"
   ]
  }
 ],
 "metadata": {
  "kernelspec": {
   "display_name": "Python 3",
   "language": "python",
   "name": "python3"
  },
  "language_info": {
   "codemirror_mode": {
    "name": "ipython",
    "version": 3
   },
   "file_extension": ".py",
   "mimetype": "text/x-python",
   "name": "python",
   "nbconvert_exporter": "python",
   "pygments_lexer": "ipython3",
   "version": "3.12.0"
  }
 },
 "nbformat": 4,
 "nbformat_minor": 2
}
