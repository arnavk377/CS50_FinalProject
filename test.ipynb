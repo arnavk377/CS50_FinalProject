{
 "cells": [
  {
   "cell_type": "code",
   "execution_count": 90,
   "metadata": {},
   "outputs": [
    {
     "name": "stdout",
     "output_type": "stream",
     "text": [
      "https://www.pro-football-reference.com/teams/nwe/2023.htm#team_stats\n",
      "            Player  PF  Yds  TO  FL  1stD  Att  Yds.1  TD  Int  NY/A  Att.1  \\\n",
      "2  Lg Rank Offense  32   27  23  10    28   21     25  25   30  27.0     22   \n",
      "3  Lg Rank Defense  14    8  29  29     6   22     14   2   23  15.0     19   \n",
      "\n",
      "   Yds.2  TD.1   Y/A   Sc%   TO% Start Time  Plays  Yds.4   Pts   3D%   4D%  \\\n",
      "2     22    27  25.0  32.0   9.0    31   31   29.0   28.0  30.0  28.0  27.0   \n",
      "3      3    12   1.0  24.0  29.0    27   19   11.0    4.0   5.0  10.0  26.0   \n",
      "\n",
      "   RZPct  \n",
      "2   13.0  \n",
      "3    6.0  \n"
     ]
    }
   ],
   "source": [
    "import pandas as pd\n",
    "import numpy as np\n",
    "\n",
    "rks_url = \"https://www.pro-football-reference.com/teams/nwe/2023.htm#team_stats\"\n",
    "print(rks_url)\n",
    "tm_rk_df = pd.read_html(rks_url, header=1, attrs={'id':'team_stats'})[0]\n",
    "cvn_url = \"https://www.pro-football-reference.com/teams/nwe/2023.htm#team_conversions\"\n",
    "cvn_df = pd.read_html(rks_url, header=1, attrs={'id':'team_conversions'})[0]\n",
    "cvn_df = cvn_df.drop([0, 1])\n",
    "cvn_df = cvn_df.drop(['Player'], axis=1)\n",
    "rkgs_df = pd.concat([tm_rk_df, cvn_df], axis=1)\n",
    "# rkgs_df.insert(loc=0, column='Season', value=2023) *replace 2023 with season variable*\n",
    "# rkgs_df.insert(loc=1, column='Team', value='New England Patriots') *replace Patriots with full_team_names[team]*\n",
    "# Will need to change some column names(ex. specify what type of yards or attempts they are, passing, rushing, etc)\n",
    "rkgs_df = rkgs_df.drop([0, 1])\n",
    "rkgs_df = rkgs_df.dropna(axis=1, how='all')\n",
    "with pd.option_context('display.max_rows', None,\n",
    "                       'display.max_columns', None,\n",
    "                       'display.precision', 3,\n",
    "                       ):\n",
    "    print(rkgs_df)"
   ]
  },
  {
   "cell_type": "code",
   "execution_count": 102,
   "metadata": {},
   "outputs": [
    {
     "name": "stdout",
     "output_type": "stream",
     "text": [
      "            Player  PF  Yds  TO  FL  1stD  Att  Yds.1  TD  Int  ...   Sc%  \\\n",
      "2  Lg Rank Offense  32   27  23  10    28   21     25  25   30  ...  32.0   \n",
      "3  Lg Rank Defense  14    8  29  29     6   22     14   2   23  ...  24.0   \n",
      "\n",
      "    TO%  Start  Time  Plays  Yds.4   Pts   3D%   4D%  RZPct  \n",
      "2   9.0     31    31   29.0   28.0  30.0  28.0  27.0   13.0  \n",
      "3  29.0     27    19   11.0    4.0   5.0  10.0  26.0    6.0  \n",
      "\n",
      "[2 rows x 25 columns]\n",
      "Index(['Player', 'PF', 'Yds', 'TO', 'FL', '1stD', 'Att', 'Yds.1', 'TD', 'Int',\n",
      "       'NY/A', 'Att.1', 'Yds.2', 'TD.1', 'Y/A', 'Sc%', 'TO%', 'Start', 'Time',\n",
      "       'Plays', 'Yds.4', 'Pts', '3D%', '4D%', 'RZPct'],\n",
      "      dtype='object')\n",
      "['PF_OF', 'Yds_OF', 'TO_OF', 'FL_OF', '1stD_OF', 'Att_OF', 'Yds.1_OF', 'TD_OF', 'Int_OF', 'NY/A_OF', 'Att.1_OF', 'Yds.2_OF', 'TD.1_OF', 'Y/A_OF', 'Sc%_OF', 'TO%_OF', 'Start_OF', 'Time_OF', 'Plays_OF', 'Yds.4_OF', 'Pts_OF', '3D%_OF', '4D%_OF', 'RZPct_OF', 'PF_DF', 'Yds_DF', 'TO_DF', 'FL_DF', '1stD_DF', 'Att_DF', 'Yds.1_DF', 'TD_DF', 'Int_DF', 'NY/A_DF', 'Att.1_DF', 'Yds.2_DF', 'TD.1_DF', 'Y/A_DF', 'Sc%_DF', 'TO%_DF', 'Start_DF', 'Time_DF', 'Plays_DF', 'Yds.4_DF', 'Pts_DF', '3D%_DF', '4D%_DF', 'RZPct_DF']\n",
      "48\n",
      "[32, 27, 23, 10, 28, 21, 25, 25, 30, 27.0, 22, 22, 27, 25.0, 32.0, 9.0, 31.0, 31.0, 29.0, 28.0, 30.0, 28.0, 27.0, 13.0, 14, 8, 29, 29, 6, 22, 14, 2, 23, 15.0, 19, 3, 12, 1.0, 24.0, 29.0, 27.0, 19.0, 11.0, 4.0, 5.0, 10.0, 26.0, 6.0]\n",
      "48\n",
      "[32. 27. 23. 10. 28. 21. 25. 25. 30. 27. 22. 22. 27. 25. 32.  9. 31. 31.\n",
      " 29. 28. 30. 28. 27. 13. 14.  8. 29. 29.  6. 22. 14.  2. 23. 15. 19.  3.\n",
      " 12.  1. 24. 29. 27. 19. 11.  4.  5. 10. 26.  6.]\n",
      "   PF_OF  Yds_OF  TO_OF  FL_OF  1stD_OF  Att_OF  Yds.1_OF  TD_OF  Int_OF  \\\n",
      "0   32.0    27.0   23.0   10.0     28.0    21.0      25.0   25.0    30.0   \n",
      "\n",
      "   NY/A_OF  ...  Sc%_DF  TO%_DF  Start_DF  Time_DF  Plays_DF  Yds.4_DF  \\\n",
      "0     27.0  ...    24.0    29.0      27.0     19.0      11.0       4.0   \n",
      "\n",
      "   Pts_DF  3D%_DF  4D%_DF  RZPct_DF  \n",
      "0     5.0    10.0    26.0       6.0  \n",
      "\n",
      "[1 rows x 48 columns]\n"
     ]
    }
   ],
   "source": [
    "print(rkgs_df)\n",
    "print(rkgs_df.columns)\n",
    "of_columns = [val + '_OF' for val in rkgs_df.columns[1:]]\n",
    "df_columns = [val + '_DF' for val in rkgs_df.columns[1:]]\n",
    "tot_columns = of_columns + df_columns\n",
    "print(tot_columns)\n",
    "print(len(tot_columns))\n",
    "rnk_row = []\n",
    "for i, j in rkgs_df.iterrows():\n",
    "    for k in j:\n",
    "        if not isinstance(k, str):\n",
    "            rnk_row.append(k)\n",
    "        elif k.isnumeric():\n",
    "            rnk_row.append(float(k))\n",
    "\n",
    "print(rnk_row)\n",
    "print(len(rnk_row))\n",
    "rnk_rows = np.array(rnk_row)\n",
    "print(rnk_rows)\n",
    "fin_rkgs_df = pd.DataFrame(rnk_rows, tot_columns)\n",
    "fin_rkgs_df = fin_rkgs_df.T\n",
    "print(fin_rkgs_df)\n"
   ]
  }
 ],
 "metadata": {
  "kernelspec": {
   "display_name": "env_cs50Proj",
   "language": "python",
   "name": "python3"
  },
  "language_info": {
   "codemirror_mode": {
    "name": "ipython",
    "version": 3
   },
   "file_extension": ".py",
   "mimetype": "text/x-python",
   "name": "python",
   "nbconvert_exporter": "python",
   "pygments_lexer": "ipython3",
   "version": "3.12.0"
  }
 },
 "nbformat": 4,
 "nbformat_minor": 2
}
