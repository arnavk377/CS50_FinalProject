{
 "cells": [
  {
   "cell_type": "code",
   "execution_count": 103,
   "metadata": {},
   "outputs": [
    {
     "name": "stdout",
     "output_type": "stream",
     "text": [
      "https://www.pro-football-reference.com/teams/nwe/2023.htm#team_stats\n",
      "            Player  PF  Tot_Yds  TO  FL  1stD  Pass_Att  Pass_Yds  Pass_TD  \\\n",
      "2  Lg Rank Offense  32       27  23  10    28        21        25       25   \n",
      "3  Lg Rank Defense  14        8  29  29     6        22        14        2   \n",
      "\n",
      "   Int  NY/A  Rush_Att  Rush_Yds  Rush_TD   Y/A   Sc%   TO% Start Time  Plays  \\\n",
      "2   30  27.0        22        22       27  25.0  32.0   9.0    31   31   29.0   \n",
      "3   23  15.0        19         3       12   1.0  24.0  29.0    27   19   11.0   \n",
      "\n",
      "   Avg_Yds   Pts   3D%   4D%  RZPct  \n",
      "2     28.0  30.0  28.0  27.0   13.0  \n",
      "3      4.0   5.0  10.0  26.0    6.0  \n"
     ]
    }
   ],
   "source": [
    "import pandas as pd\n",
    "import numpy as np\n",
    "\n",
    "rks_url = \"https://www.pro-football-reference.com/teams/nwe/2023.htm#team_stats\"\n",
    "print(rks_url)\n",
    "tm_rk_df = pd.read_html(rks_url, header=1, attrs={'id':'team_stats'})[0]\n",
    "cvn_url = \"https://www.pro-football-reference.com/teams/nwe/2023.htm#team_conversions\"\n",
    "cvn_df = pd.read_html(rks_url, header=1, attrs={'id':'team_conversions'})[0]\n",
    "cvn_df = cvn_df.drop([0, 1])\n",
    "cvn_df = cvn_df.drop(['Player'], axis=1)\n",
    "rkgs_df = pd.concat([tm_rk_df, cvn_df], axis=1)\n",
    "new_columns = {'Yds': 'Tot_Yds', 'Att': 'Pass_Att', 'Yds.1': 'Pass_Yds', 'TD': 'Pass_TD', 'Att.1': 'Rush_Att', 'Yds.2': 'Rush_Yds', 'TD.1': 'Rush_TD', 'Yds.4': 'Avg_Drive_Yds'}\n",
    "rkgs_df = rkgs_df.rename(columns=new_columns)\n",
    "rkgs_df = rkgs_df.drop([0, 1])\n",
    "rkgs_df = rkgs_df.dropna(axis=1, how='all')\n",
    "\n",
    "of_columns = [val + '_OF' for val in rkgs_df.columns[1:]]\n",
    "df_columns = [val + '_DF' for val in rkgs_df.columns[1:]]\n",
    "tot_columns = of_columns + df_columns\n",
    "rnk_row = []\n",
    "for i, j in rkgs_df.iterrows():\n",
    "    for k in j:\n",
    "        if not isinstance(k, str):\n",
    "            rnk_row.append(k)\n",
    "        elif k.isnumeric():\n",
    "            rnk_row.append(float(k))\n",
    "rnk_rows = np.array(rnk_row)\n",
    "com_rkgs_df = pd.DataFrame(rnk_rows, tot_columns)\n",
    "com_rkgs_df = com_rkgs_df.T\n",
    "com_rkgs_df.insert(loc=0, column='Season', value=season) # replace with 2023 for testing\n",
    "com_rkgs_df.insert(loc=1, column='Team', value=full_team_names[team]) # Replace with 'New England Patriots' for testing\n",
    "\n"
   ]
  }
 ],
 "metadata": {
  "kernelspec": {
   "display_name": "env_cs50Proj",
   "language": "python",
   "name": "python3"
  },
  "language_info": {
   "codemirror_mode": {
    "name": "ipython",
    "version": 3
   },
   "file_extension": ".py",
   "mimetype": "text/x-python",
   "name": "python",
   "nbconvert_exporter": "python",
   "pygments_lexer": "ipython3",
   "version": "3.12.0"
  }
 },
 "nbformat": 4,
 "nbformat_minor": 2
}
